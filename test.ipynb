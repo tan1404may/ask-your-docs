{
 "cells": [
  {
   "cell_type": "code",
   "execution_count": 2,
   "id": "e61af812",
   "metadata": {},
   "outputs": [
    {
     "name": "stderr",
     "output_type": "stream",
     "text": [
      "USER_AGENT environment variable not set, consider setting it to identify your requests.\n"
     ]
    }
   ],
   "source": [
    "from langchain_groq import ChatGroq\n",
    "from langchain_core.prompts import PromptTemplate, ChatPromptTemplate, MessagesPlaceholder, SystemMessagePromptTemplate, HumanMessagePromptTemplate\n",
    "from langchain_core.runnables import RunnableLambda, RunnableMap, RunnablePassthrough \n",
    "from langchain_community.document_loaders import TextLoader, WebBaseLoader\n",
    "from langchain.text_splitter import RecursiveCharacterTextSplitter\n",
    "from langchain_community.embeddings import HuggingFaceBgeEmbeddings\n",
    "import os \n",
    "from langchain.vectorstores import FAISS\n",
    "from dotenv import load_dotenv \n",
    "\n",
    "load_dotenv()\n",
    "\n",
    "GROQ_API_KEY = os.getenv(\"GROQ_API_KEY\")\n",
    "llm = ChatGroq(temperature=0.7, model_name=\"meta-llama/llama-4-scout-17b-16e-instruct\")"
   ]
  },
  {
   "cell_type": "markdown",
   "id": "22e36457",
   "metadata": {},
   "source": [
    "## Load the File"
   ]
  },
  {
   "cell_type": "code",
   "execution_count": 10,
   "id": "d146a3bc",
   "metadata": {},
   "outputs": [
    {
     "name": "stdout",
     "output_type": "stream",
     "text": [
      "<class 'list'> <class 'langchain_core.documents.base.Document'>\n"
     ]
    }
   ],
   "source": [
    "loader = TextLoader(\"data/FinalKb/test.txt\")\n",
    "doc = loader.load()\n",
    "print(type(doc), type(doc[0]))"
   ]
  },
  {
   "cell_type": "code",
   "execution_count": 14,
   "id": "a37e5071",
   "metadata": {},
   "outputs": [
    {
     "name": "stdout",
     "output_type": "stream",
     "text": [
      "<class 'list'> <class 'langchain_core.documents.base.Document'>\n"
     ]
    }
   ],
   "source": [
    "splitter = RecursiveCharacterTextSplitter(chunk_size=500, chunk_overlap=100)\n",
    "chunks = splitter.split_documents(doc)\n",
    "print(type(chunks), type(chunks[0]))"
   ]
  },
  {
   "cell_type": "code",
   "execution_count": 17,
   "id": "17e8450e",
   "metadata": {},
   "outputs": [
    {
     "name": "stderr",
     "output_type": "stream",
     "text": [
      "C:\\Users\\Tanmay\\AppData\\Local\\Temp\\ipykernel_6576\\217157525.py:1: LangChainDeprecationWarning: The class `HuggingFaceBgeEmbeddings` was deprecated in LangChain 0.2.2 and will be removed in 1.0. An updated version of the class exists in the :class:`~langchain-huggingface package and should be used instead. To use it run `pip install -U :class:`~langchain-huggingface` and import as `from :class:`~langchain_huggingface import HuggingFaceEmbeddings``.\n",
      "  embeddings = HuggingFaceBgeEmbeddings()\n",
      "C:\\Users\\Tanmay\\AppData\\Local\\Temp\\ipykernel_6576\\217157525.py:1: LangChainDeprecationWarning: Default values for HuggingFaceBgeEmbeddings.model_name were deprecated in LangChain 0.2.5 and will be removed in 0.4.0. Explicitly pass a model_name to the HuggingFaceBgeEmbeddings constructor instead.\n",
      "  embeddings = HuggingFaceBgeEmbeddings()\n",
      "c:\\CS_programme\\codes\\pdfChat\\venv\\Lib\\site-packages\\tqdm\\auto.py:21: TqdmWarning: IProgress not found. Please update jupyter and ipywidgets. See https://ipywidgets.readthedocs.io/en/stable/user_install.html\n",
      "  from .autonotebook import tqdm as notebook_tqdm\n"
     ]
    }
   ],
   "source": [
    "embeddings = HuggingFaceBgeEmbeddings()"
   ]
  },
  {
   "cell_type": "code",
   "execution_count": 18,
   "id": "6581f761",
   "metadata": {},
   "outputs": [],
   "source": [
    "db = FAISS.from_documents(chunks, embeddings)"
   ]
  },
  {
   "cell_type": "code",
   "execution_count": 9,
   "id": "a9200a0f",
   "metadata": {},
   "outputs": [],
   "source": [
    "db.save_local(\"faiss_index\")"
   ]
  },
  {
   "cell_type": "code",
   "execution_count": null,
   "id": "811e83dd",
   "metadata": {},
   "outputs": [],
   "source": [
    "# use this to extract chunks\n",
    "retriever = db.as_retriever(search_kwargs={\"k\":2})"
   ]
  },
  {
   "cell_type": "code",
   "execution_count": 32,
   "id": "15a106c6",
   "metadata": {},
   "outputs": [],
   "source": [
    "prompt = ChatPromptTemplate.from_messages([\n",
    "    SystemMessagePromptTemplate.from_template(\"You are a helpful tutor.\"),\n",
    "    HumanMessagePromptTemplate.from_template(\"Use the following context:\\n\\n{context}\\n\\nAnswer the question:\\n{query}\")\n",
    "])\n"
   ]
  },
  {
   "cell_type": "code",
   "execution_count": 35,
   "id": "11dfde3d",
   "metadata": {},
   "outputs": [],
   "source": [
    "rag_chain = (\n",
    "    RunnableMap({\n",
    "        \"context\": lambda q: \"\\n\\n\".join(doc.page_content for doc in retriever.invoke(q)),\n",
    "        \"query\": RunnablePassthrough()\n",
    "    })\n",
    "    | prompt\n",
    "    | llm\n",
    ")"
   ]
  },
  {
   "cell_type": "code",
   "execution_count": 36,
   "id": "064af6ea",
   "metadata": {},
   "outputs": [
    {
     "name": "stdout",
     "output_type": "stream",
     "text": [
      "Based on the provided context, I couldn't find any direct mention of \"langchain\" or its applications. However, I can infer that langchain might be related to Natural Language Processing (NLP) since it's similar to ChatGPT, which is an example of advanced NLP.\n",
      "\n",
      "Assuming langchain is related to NLP, possible applications of langchain (except RAG and agents) could be:\n",
      "\n",
      "1. Virtual assistants\n",
      "2. Translation tools\n",
      "3. Sentiment analysis\n",
      "4. Chatbots\n",
      "5. Recommender systems (like those used on YouTube or Netflix)\n",
      "\n",
      "Keep in mind that these are just educated guesses based on the context provided, and actual applications of langchain might differ. If you have more information about langchain, I'd be happy to try and provide a more accurate answer.\n"
     ]
    }
   ],
   "source": [
    "query = \"What are the possible applications of langchain except RAG and agents?\"\n",
    "response = rag_chain.invoke(query)\n",
    "print(response.content)"
   ]
  },
  {
   "cell_type": "code",
   "execution_count": null,
   "id": "018edd9e",
   "metadata": {},
   "outputs": [],
   "source": []
  },
  {
   "cell_type": "code",
   "execution_count": null,
   "id": "eeca7978",
   "metadata": {},
   "outputs": [],
   "source": []
  }
 ],
 "metadata": {
  "kernelspec": {
   "display_name": "venv",
   "language": "python",
   "name": "python3"
  },
  "language_info": {
   "codemirror_mode": {
    "name": "ipython",
    "version": 3
   },
   "file_extension": ".py",
   "mimetype": "text/x-python",
   "name": "python",
   "nbconvert_exporter": "python",
   "pygments_lexer": "ipython3",
   "version": "3.13.2"
  }
 },
 "nbformat": 4,
 "nbformat_minor": 5
}
